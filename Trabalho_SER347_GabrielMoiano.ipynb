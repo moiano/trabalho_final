{
 "cells": [
  {
   "cell_type": "markdown",
   "metadata": {},
   "source": [
    "# Introdução à Programação para Sensoriamento Remoto\n",
    "ser347-2018\n",
    "Aluno: Gabriel Moiano Cesar\n",
    "\n",
    "Utilização da dimensão temporal para a interpolação de dados espúrios\n",
    "\n",
    "O objetivo desse trabalho foi a implementação do método desenvolvido por Gigliotti et al. (2009) como rotina na linguagem Python. Essa metodologia permite uma melhor observação de fenômenos oceânicos com grande aplicabilidade em estudos em meso e macro-escala.\n"
   ]
  },
  {
   "cell_type": "markdown",
   "metadata": {},
   "source": [
    "As etapas metodológicas a seguir foram utilizadas para atender os objetivos propostos.\n",
    "Primeiramente foi feita a importação das bibliotecas utilizadas no programa:"
   ]
  },
  {
   "cell_type": "code",
   "execution_count": null,
   "metadata": {},
   "outputs": [],
   "source": [
    "import numpy as np\n",
    "import netCDF4 as nc\n",
    "import glob\n",
    "import os\n",
    "from scipy.optimize import leastsq\n",
    "import matplotlib.pyplot as plt"
   ]
  },
  {
   "cell_type": "markdown",
   "metadata": {},
   "source": [
    "Definição das funções da série de dados:\n",
    "Definição das características da série senoidal e dos dados espúrios:"
   ]
  },
  {
   "cell_type": "code",
   "execution_count": null,
   "metadata": {},
   "outputs": [],
   "source": [
    "def jul2greg(dia):\n",
    "    dias = np.array([31, 28, 31, 30, 31, 30, 31, 31, 30, 31, 30, 31])\n",
    "    if dia >= dias[0]:\n",
    "        dd = 0\n",
    "        for x, d in zip(range(1, 13), dias):\n",
    "            dd += d\n",
    "            if dd < dia:\n",
    "                continue\n",
    "            else:\n",
    "                dg = dia - (dd - d)\n",
    "                return x, dg\n",
    "                break\n",
    "    else:\n",
    "        return 1, dia\n",
    "\n",
    "\n",
    "os.chdir('F:\\modis_sst')\n",
    "names = glob.glob('*.nc')\n",
    "names.sort()\n",
    "\n",
    "mi = jul2greg(int(names[0][5:8]))[0]\n",
    "mf = jul2greg(int(names[-1][5:8]))[0]\n",
    "\n",
    "mifunc = mi * ((2 * np.pi) / 12)\n",
    "mffunc = mf * ((2 * np.pi) / 12)\n",
    "\n",
    "anoi = int(names[0][1:5])\n",
    "anof = int(names[-1][1:5])\n",
    "\n",
    "sst = []\n",
    "for filename in names:\n",
    "    print(filename)\n",
    "\n",
    "    ds = nc.Dataset(filename)\n",
    "    t = ds.variables['sst'][:]\n",
    "    sst.append(t)\n",
    "\n",
    "sst = np.array(sst)\n",
    "sst_na = np.where(sst < -1000, np.nan, sst)\n",
    "# sst_na2 = np.where(sst<-1000, np.nan, sst)\n",
    "\n",
    "lenrad = np.linspace(mifunc, ((anof - anoi - 2) * 2 * np.pi) + mffunc, len(sst_na))\n",
    "\n",
    "guess_phase = 0\n",
    "guess_freq = 1\n",
    "guess_amp = 1\n"
   ]
  },
  {
   "cell_type": "markdown",
   "metadata": {},
   "source": [
    "Looping que realiza a função de ajuste:"
   ]
  },
  {
   "cell_type": "code",
   "execution_count": null,
   "metadata": {},
   "outputs": [],
   "source": [
    "for l in range(sst_na.shape[1]):\n",
    "    for c in range(sst_na.shape[2]):\n",
    "        guess_mean = np.nanmean(sst_na[:, l, c])\n",
    "\n",
    "        optimize_func = lambda x: x[0] * np.sin(x[1] * lenrad + x[2]) + x[3] - sst_na[:, l, c]\n",
    "        est_amp, est_freq, est_phase, est_mean = leastsq(optimize_func, [guess_amp, guess_freq, guess_phase, guess_mean])[0]\n",
    "\n",
    "        data_fit = est_amp * np.sin(est_freq * lenrad + est_phase) + est_mean\n",
    "        na = np.argwhere(np.isnan(sst_na[:, l, c]))\n",
    "        for i in na:\n",
    "            sst_na[i[0], l, c] = data_fit[i[0]]"
   ]
  },
  {
   "cell_type": "markdown",
   "metadata": {},
   "source": [
    "Plot da série (x,y) com e sem a substituição:"
   ]
  },
  {
   "cell_type": "code",
   "execution_count": null,
   "metadata": {},
   "outputs": [],
   "source": [
    "plt.plot(sst_na)#f, ax = plt.subplots(2, 1)\n",
    "ax[0].plot(t, sst_na[:, 90, 30], 'k-')\n",
    "ax[0].plot(fine_t, data_fit2, 'r-', label='first guess')\n",
    "ax[1].plot(t, sst_na[:, 90, 30], 'k-')\n",
    "ax[1].plot(t, data_fit, 'b-', label='after fitting')\n",
    "plt.legend()"
   ]
  },
  {
   "cell_type": "markdown",
   "metadata": {},
   "source": [
    "Plot das imagens com os pixels substituídos:"
   ]
  },
  {
   "cell_type": "code",
   "execution_count": null,
   "metadata": {},
   "outputs": [],
   "source": [
    "f, ax = plt.subplots(4, 3, figsize=(7.5, 10), sharex='col', sharey='row')\n",
    "for x, a in zip(ax, np.arange((6), (18)).reshape(4, 3)):\n",
    "    for i in range(3):\n",
    "        x[i].imshow(sst_na[a[i]])\n",
    "\n",
    "plt.show()"
   ]
  }
 ],
 "metadata": {
  "kernelspec": {
   "display_name": "Python 3",
   "language": "python",
   "name": "python3"
  },
  "language_info": {
   "codemirror_mode": {
    "name": "ipython",
    "version": 3
   },
   "file_extension": ".py",
   "mimetype": "text/x-python",
   "name": "python",
   "nbconvert_exporter": "python",
   "pygments_lexer": "ipython3",
   "version": "3.6.4"
  }
 },
 "nbformat": 4,
 "nbformat_minor": 2
}
